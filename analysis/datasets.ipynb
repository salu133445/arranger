{
 "cells": [
  {
   "cell_type": "code",
   "execution_count": 36,
   "metadata": {},
   "outputs": [],
   "source": [
    "from pathlib import Path\n",
    "import numpy as np\n",
    "import muspy"
   ]
  },
  {
   "cell_type": "code",
   "execution_count": 37,
   "metadata": {},
   "outputs": [],
   "source": [
    "DATA_DIR = Path(\"~/data/arranger/\").expanduser().resolve()"
   ]
  },
  {
   "cell_type": "code",
   "execution_count": 38,
   "metadata": {},
   "outputs": [
    {
     "name": "stdout",
     "output_type": "stream",
     "text": [
      "bach : n_files=409, n_notes=96605, n_beats=23225, hours=3.225694444444442\n",
      "musicnet : n_files=57, n_notes=225831, n_beats=41025, hours=6.309832677268519\n",
      "nes : n_files=4610, n_notes=2455650, n_beats=322118, hours=45.054366666666624\n",
      "lmd : n_files=0, n_notes=0, n_beats=0, hours=0\n"
     ]
    }
   ],
   "source": [
    "for dataset in (\"bach\", \"musicnet\", \"nes\"):\n",
    "    filenames = list((DATA_DIR / dataset / \"json\").rglob(\"*.json\"))\n",
    "    n_notes = 0\n",
    "    n_beats = 0\n",
    "    hours = 0\n",
    "    for filename in filenames:\n",
    "        music = muspy.load(filename)\n",
    "        n_notes += sum(len(track.notes) for track in music)\n",
    "        n_beats += music.get_end_time() // music.resolution\n",
    "        hours += music.get_real_end_time() / 3600\n",
    "    print(f\"{dataset} : n_files={len(filenames)}, n_notes={n_notes}, n_beats={n_beats}, hours={hours}\")"
   ]
  },
  {
   "cell_type": "code",
   "execution_count": 39,
   "metadata": {},
   "outputs": [
    {
     "name": "stdout",
     "output_type": "stream",
     "text": [
      "lmd : n_files=125095, n_notes=453018171, n_beats=49502115, hours=7293.811977859065\n"
     ]
    }
   ],
   "source": [
    "filenames = list((DATA_DIR / \"lmd\" / \"json\").rglob(\"*.json.gz\"))\n",
    "n_notes = 0\n",
    "n_beats = 0\n",
    "hours = 0\n",
    "for filename in filenames:\n",
    "    music = muspy.load(filename)\n",
    "    n_notes += sum(len(track.notes) for track in music)\n",
    "    n_beats += music.get_end_time() // music.resolution\n",
    "    hours += music.get_real_end_time() / 3600\n",
    "print(f\"{dataset} : n_files={len(filenames)}, n_notes={n_notes}, n_beats={n_beats}, hours={hours}\")"
   ]
  },
  {
   "cell_type": "code",
   "execution_count": null,
   "metadata": {},
   "outputs": [],
   "source": []
  }
 ],
 "metadata": {
  "kernelspec": {
   "display_name": "Python 3",
   "language": "python",
   "name": "python3"
  },
  "language_info": {
   "codemirror_mode": {
    "name": "ipython",
    "version": 3
   },
   "file_extension": ".py",
   "mimetype": "text/x-python",
   "name": "python",
   "nbconvert_exporter": "python",
   "pygments_lexer": "ipython3",
   "version": "3.7.5"
  }
 },
 "nbformat": 4,
 "nbformat_minor": 4
}
